{
 "cells": [
  {
   "cell_type": "code",
   "execution_count": 9,
   "outputs": [],
   "source": [
    "import pandas as pd\n",
    "from sklearn.model_selection import train_test_split\n",
    "from sklearn.preprocessing import StandardScaler, LabelEncoder\n",
    "from sklearn.metrics import mean_absolute_error,mean_squared_error\n"
   ],
   "metadata": {
    "collapsed": false,
    "ExecuteTime": {
     "end_time": "2024-04-15T20:54:05.567556300Z",
     "start_time": "2024-04-15T20:54:05.534540200Z"
    }
   },
   "id": "75f6c2c12cc49526"
  },
  {
   "cell_type": "code",
   "execution_count": 10,
   "outputs": [],
   "source": [
    "# Step 1: Load the data\n",
    "data = pd.read_csv('employee.csv')"
   ],
   "metadata": {
    "collapsed": false,
    "ExecuteTime": {
     "end_time": "2024-04-15T20:54:06.800916700Z",
     "start_time": "2024-04-15T20:54:06.742803Z"
    }
   },
   "id": "719b5ba8bdad2f4e"
  },
  {
   "cell_type": "code",
   "execution_count": 11,
   "outputs": [
    {
     "name": "stderr",
     "output_type": "stream",
     "text": [
      "C:\\Users\\B\\AppData\\Local\\Temp\\ipykernel_1464\\1698350009.py:3: FutureWarning: DataFrame.fillna with 'method' is deprecated and will raise in a future version. Use obj.ffill() or obj.bfill() instead.\n",
      "  data.fillna(method='ffill', inplace=True)\n"
     ]
    }
   ],
   "source": [
    "# Step 2: Preprocessing\n",
    "# Handle missing values\n",
    "data.fillna(method='ffill', inplace=True)\n",
    "# Label Encoding for binary categorical variables\n",
    "label_encoder = LabelEncoder()\n",
    "binary_categorical_cols = ['is_manager', 'is_education_computer_related', 'certifications']\n",
    "for col in binary_categorical_cols:\n",
    "    data[col] = label_encoder.fit_transform(data[col])\n",
    "\n",
    "# One-Hot Encoding\n",
    "data = pd.get_dummies(data, columns=['country', 'employment_status', 'job_title', 'education'])\n",
    "\n",
    "# Convert timestamp to datetime\n",
    "data['timestamp'] = pd.to_datetime(data['timestamp'])\n",
    "data['year'] = data['timestamp'].dt.year\n",
    "data['month'] = data['timestamp'].dt.month\n",
    "data['day'] = data['timestamp'].dt.day\n",
    "\n",
    "# Normalize numerical features\n",
    "scaler = StandardScaler()\n",
    "num_features = ['job_years', 'hours_per_week']\n",
    "data[num_features] = scaler.fit_transform(data[num_features])\n"
   ],
   "metadata": {
    "collapsed": false,
    "ExecuteTime": {
     "end_time": "2024-04-15T20:54:07.518782900Z",
     "start_time": "2024-04-15T20:54:07.432792500Z"
    }
   },
   "id": "4327103ca99a6a0f"
  },
  {
   "cell_type": "code",
   "execution_count": 12,
   "outputs": [],
   "source": [
    "# Step 3: Feature Selection\n",
    "features = ['is_manager', 'is_education_computer_related', 'certifications', 'year', 'month', 'day'] + list(data.columns[data.columns.str.startswith('country_')])"
   ],
   "metadata": {
    "collapsed": false,
    "ExecuteTime": {
     "end_time": "2024-04-15T20:54:17.241223600Z",
     "start_time": "2024-04-15T20:54:17.214096500Z"
    }
   },
   "id": "607fa33cfc45ce99"
  },
  {
   "cell_type": "code",
   "execution_count": 13,
   "outputs": [],
   "source": [
    "# Step 4: Split Data\n",
    "X = data[features]\n",
    "y = data['salary']\n",
    "X_train, X_test, y_train, y_test = train_test_split(X, y, test_size=0.2, random_state=42)"
   ],
   "metadata": {
    "collapsed": false,
    "ExecuteTime": {
     "end_time": "2024-04-15T20:54:18.630194200Z",
     "start_time": "2024-04-15T20:54:18.598085500Z"
    }
   },
   "id": "1ec319872ac21911"
  },
  {
   "cell_type": "code",
   "execution_count": 14,
   "outputs": [
    {
     "name": "stdout",
     "output_type": "stream",
     "text": [
      "Linear Regression Metrics:\n",
      "Mean Absolute Error (MAE): 341361119849.2263\n",
      "Mean Squared Error (MSE): 2.4936910852590504e+25\n"
     ]
    }
   ],
   "source": [
    "#Step 5:Linear Regression\n",
    "from sklearn.linear_model import LinearRegression\n",
    "\n",
    "linear_model = LinearRegression()\n",
    "linear_model.fit(X_train, y_train)\n",
    "\n",
    "# Predictions with the Linear Regression model\n",
    "y_pred_linear = linear_model.predict(X_test)\n",
    "\n",
    "#MAE & MSE for Linear Regression\n",
    "mae_linear = mean_absolute_error(y_test, y_pred_linear)\n",
    "mse_linear = mean_squared_error(y_test, y_pred_linear)\n",
    "\n",
    "print(\"Linear Regression Metrics:\")\n",
    "print(f\"Mean Absolute Error (MAE): {mae_linear}\")\n",
    "print(f\"Mean Squared Error (MSE): {mse_linear}\")"
   ],
   "metadata": {
    "collapsed": false,
    "ExecuteTime": {
     "end_time": "2024-04-15T20:54:19.669515900Z",
     "start_time": "2024-04-15T20:54:19.525839600Z"
    }
   },
   "id": "19733c7e66ea07cb"
  },
  {
   "cell_type": "code",
   "execution_count": 15,
   "outputs": [
    {
     "name": "stdout",
     "output_type": "stream",
     "text": [
      "Ridge Regression Metrics:\n",
      "Mean Absolute Error (MAE): 909.3693701091759\n",
      "Mean Squared Error (MSE): 1485196.6765126046\n",
      "Lasso Regression Metrics:\n",
      "Mean Absolute Error (MAE): 909.2216238008331\n",
      "Mean Squared Error (MSE): 1486483.443935434\n"
     ]
    }
   ],
   "source": [
    "#Step 6:Ridge Regression&Lasso Regression model\n",
    "from sklearn.linear_model import Ridge, Lasso\n",
    "\n",
    "ridge_model = Ridge(alpha=1.0)\n",
    "ridge_model.fit(X_train, y_train)\n",
    "\n",
    "# Predictions with Ridge Regression model\n",
    "y_pred_ridge = ridge_model.predict(X_test)\n",
    "\n",
    "# MAE & MSE for Ridge Regression\n",
    "mae_ridge = mean_absolute_error(y_test, y_pred_ridge)\n",
    "mse_ridge = mean_squared_error(y_test, y_pred_ridge)\n",
    "\n",
    "print(\"Ridge Regression Metrics:\")\n",
    "print(f\"Mean Absolute Error (MAE): {mae_ridge}\")\n",
    "print(f\"Mean Squared Error (MSE): {mse_ridge}\")\n",
    "\n",
    "\n",
    "lasso_model = Lasso(alpha=1.0)\n",
    "lasso_model.fit(X_train, y_train)\n",
    "\n",
    "# Prediction with the Lasso Regression model\n",
    "y_pred_lasso = lasso_model.predict(X_test)\n",
    "\n",
    "# MAE & MSE for Lasso Regression\n",
    "mae_lasso = mean_absolute_error(y_test, y_pred_lasso)\n",
    "mse_lasso = mean_squared_error(y_test, y_pred_lasso)\n",
    "\n",
    "print(\"Lasso Regression Metrics:\")\n",
    "print(f\"Mean Absolute Error (MAE): {mae_lasso}\")\n",
    "print(f\"Mean Squared Error (MSE): {mse_lasso}\")"
   ],
   "metadata": {
    "collapsed": false,
    "ExecuteTime": {
     "end_time": "2024-04-15T20:54:21.304907500Z",
     "start_time": "2024-04-15T20:54:21.195381900Z"
    }
   },
   "id": "5ce3c41752bb3a5d"
  },
  {
   "cell_type": "code",
   "execution_count": null,
   "outputs": [],
   "source": [
    "#The values of MAE and MSE for are Ridge Regression and Lasso Regression are much smaller than those of Linear regression. It means these two regression metrics perform better than Linear Regression."
   ],
   "metadata": {
    "collapsed": false
   },
   "id": "afe14371403f7e3a"
  }
 ],
 "metadata": {
  "kernelspec": {
   "display_name": "Python 3",
   "language": "python",
   "name": "python3"
  },
  "language_info": {
   "codemirror_mode": {
    "name": "ipython",
    "version": 2
   },
   "file_extension": ".py",
   "mimetype": "text/x-python",
   "name": "python",
   "nbconvert_exporter": "python",
   "pygments_lexer": "ipython2",
   "version": "2.7.6"
  }
 },
 "nbformat": 4,
 "nbformat_minor": 5
}
